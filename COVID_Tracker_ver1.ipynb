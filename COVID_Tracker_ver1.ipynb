{
  "nbformat": 4,
  "nbformat_minor": 0,
  "metadata": {
    "colab": {
      "name": "COVID_Tracker_ver1.ipynb",
      "provenance": [],
      "collapsed_sections": []
    },
    "kernelspec": {
      "display_name": "Python 3",
      "name": "python3"
    },
    "language_info": {
      "codemirror_mode": {
        "name": "ipython",
        "version": 3
      },
      "file_extension": ".py",
      "mimetype": "text/x-python",
      "name": "python",
      "nbconvert_exporter": "python",
      "pygments_lexer": "ipython3",
      "version": "3.8.5-final"
    }
  },
  "cells": [
    {
      "cell_type": "code",
      "metadata": {
        "id": "_tpE2x3W_cqf"
      },
      "source": [
        "import pandas as pd\n",
        "import matplotlib.pyplot as plt\n",
        "from matplotlib import dates as mpl_dates"
      ],
      "execution_count": null,
      "outputs": []
    },
    {
      "cell_type": "code",
      "metadata": {
        "id": "IXO84Ufl_cqg"
      },
      "source": [
        "county_data = pd.read_csv(\"us-counties.csv\")\n",
        "state_data = pd.read_csv(\"us-states.csv\")"
      ],
      "execution_count": null,
      "outputs": []
    },
    {
      "cell_type": "code",
      "metadata": {
        "id": "dbtghmNbCvDN"
      },
      "source": [
        "##covid_deaths, cases use the same functions (sort, range, display) but will pass different arguments\n",
        "#def md_data():\n",
        "\n",
        "#STATE\n",
        "def state(state_data):\n",
        "  #displays data on covid cases or deaths by state\n",
        "  md_state_df = state_data.loc[state_data[\"state\"] == 'Maryland']\n",
        "\n",
        "  md_state_df = md_state_df.reset_index(drop=True)\n",
        "\n",
        "  selection = input(\"Cases or Deaths?: \")\n",
        "  if 'cases' in selection:\n",
        "    cases(md_state_df)\n",
        "  elif 'deaths' in selection:\n",
        "    deaths(md_state_df)\n",
        "\n",
        "\n",
        "#COUNTY\n",
        "def county(county_data):\n",
        "  #displays data on covid cases or deaths by county\n",
        "  \n",
        "  #md_counties_df is all data from county_data that is from Maryland\n",
        "  md_counties_df = county_data.loc[county_data[\"state\"] == 'Maryland']\n",
        "\n",
        "  #User types in desired county, loop to ensure that the user is entering a county that exists\n",
        "  county_list = md_counties_df[\"county\"].tolist()\n",
        "  selection = input(\"Would you like to see a list of counties? (yes/no\")\n",
        "  selection.lower()\n",
        "  if selection == 'yes':\n",
        "    for county in county_list:\n",
        "      print(county)\n",
        "  #list of counties in Maryland\n",
        "  check = 0\n",
        "  county = ''\n",
        "  while check == 0:\n",
        "    county = input(\"Type the county you want: \")\n",
        "    county.lower()\n",
        "    county.capitalize()\n",
        "    if county in county_list:\n",
        "      check = 1\n",
        "    else:\n",
        "      print(county + \" is not a county in Maryland, please enter a county in Maryland: \")\n",
        "  \n",
        "  #Now that we have a correct county, create new dataframe that only includes data from desired county\n",
        "  md_county_df= md_counties_df.loc[md_counties_df[\"county\"] == county]\n",
        "  md_county_df = md_county_df.reset_index(drop=True)\n",
        "  selection = input(\"Cases or Deaths?\")\n",
        "  selection.lower()\n",
        "  if 'cases' in selection:\n",
        "    cases(md_county_df)\n",
        "  elif 'deaths' in selection:\n",
        "    deaths(md_county_df)\n",
        "\n",
        "\n",
        "def cases(df):\n",
        "  range_df = set_range(df)\n",
        "  #print(range_df.head())\n",
        "  display(range_df, \"cases\")\n",
        "\n",
        "def deaths(df):\n",
        "  range_df = set_range(df)\n",
        "  #print(range_df.head())\n",
        "  display(range_df, \"deaths\")\n",
        "\n",
        "def set_range(df):\n",
        "  #this function creates a new dataframe that only includes data from the range the user wants to observe\n",
        "  selection = input(\"Do you want a defined ranged or do you just want the full data? (type full for full data, anything else for defined range): \")\n",
        "  selection.lower()\n",
        "  if selection == 'full':\n",
        "    return df\n",
        "  date_list = df[\"date\"].tolist()\n",
        "  \n",
        "  #get starting date\n",
        "  check = 0\n",
        "  start_date = ''\n",
        "  while check != 1:\n",
        "    start_date = input(\"Enter start date (YYYY-MM-DD): \")\n",
        "    if start_date in date_list:\n",
        "      check = 1\n",
        "    else:\n",
        "      print(\"Either that date doesn't exist in the data or incorrect format\")\n",
        "\n",
        "  \n",
        "  #get end date\n",
        "  check = 0\n",
        "  end_date = ''\n",
        "  while check != 1:\n",
        "    end_date = input(\"Enter end date (YYYY-MM-DD): \")\n",
        "    if end_date in date_list or end_date < start_date:\n",
        "      check = 1\n",
        "    else:\n",
        "      print(\"Either that date doesn't exist in the data, incorrect format, or end date is earlier than start date\")\n",
        "  \n",
        "\n",
        "  #create new dataframe within the dates user requested\n",
        "  user_range = (df['date'] > start_date) & (df['date'] <= end_date)\n",
        "\n",
        "  user_range_df = df.loc[user_range]\n",
        "\n",
        "  user_range_df = user_range_df.reset_index(drop=True)\n",
        "\n",
        "\n",
        "\n",
        "  return user_range_df\n",
        "  #set the range for matplot graphs via user input \n",
        "\n",
        "def display(df, option):\n",
        "  #takes values from set_range() and plots them visually using desired format (histogram, pie chart, etc)\n",
        "  \n",
        "  #option variable has either \"cases\" or \"deaths\" stored, so when you need to create the graph, just do df[option]\n",
        "\n",
        "  #for the title: determine if this is state or county\n",
        "  desc = ''\n",
        "  if 'county' in df.columns:\n",
        "      county_list = df[\"county\"].tolist()\n",
        "      desc = \" for \" + county_list[0] + \" county\"\n",
        "  else:\n",
        "    desc =  \" in Maryland\"\n",
        "      \n",
        "  \n",
        "\n",
        "\n",
        "  #Pandas and matplotlib has a lot of functionality with dates, so I did this to have pandas recongnize it is working with dates. This is neccessary for the x ticks formating\n",
        "  df['date'] = pd.to_datetime(df['date'])\n",
        "  df.sort_values('date', inplace=True)\n",
        "  dates = df['date']\n",
        "  cd = df[option]\n",
        "  formated_dates = mpl_dates.DateFormatter('%b, %d')\n",
        "  \n",
        "  #user chooses which graph they would like, then displays graph\n",
        "  selection = int(input(\"Choose the corresponding number for how you want the data to be displayed:\\n1 - Line graph\\n2 - Bar graph\\n3 - Scatterplot (not recommended for more than a month of data)\\n\"))\n",
        "  if selection == 1:\n",
        "    plt.plot_date(dates, cd, linestyle = 'solid', marker='None')\n",
        "    plt.gcf().autofmt_xdate()\n",
        "    plt.gca().xaxis.set_major_formatter(formated_dates)\n",
        "    plt.title(\"COVID-19 \" + option.capitalize() + desc)\n",
        "    plt.xlabel(\"Date recorded\")\n",
        "    plt.ylabel(option.capitalize())\n",
        "  elif selection == 2:\n",
        "    plt.bar(df['date'], df[option])\n",
        "    plt.gcf().autofmt_xdate()\n",
        "    plt.gca().xaxis.set_major_formatter(formated_dates)\n",
        "    plt.title(\"COVID-19 \" + option.capitalize() +  desc)\n",
        "    plt.xlabel(\"Date recorded\")\n",
        "    plt.ylabel(option.capitalize())\n",
        "  elif selection == 3:\n",
        "    plt.scatter(df['date'], df[option])\n",
        "    plt.gcf().autofmt_xdate()\n",
        "    plt.gca().xaxis.set_major_formatter(formated_dates)\n",
        "    plt.title(\"COVID-19 \" + option.capitalize() + desc)\n",
        "    plt.xlabel(\"Date recorded\")\n",
        "    plt.ylabel(option.capitalize())\n",
        "  \n",
        "  selection = input(\"Would you like to view deaths as well? (yes/no): \")\n",
        "  selection.lower()\n",
        "\n",
        "\n",
        "  #plt.hist(df[option], bins=100, range=(set_range(df)))\n",
        "  #plt.gcf().autofmt_xdate()\n",
        "\n",
        "  #plt.pie(df['deaths'].value_counts(), labels= df['deaths'].value_counts().index, autopct=\"%2.2f%%\")\n",
        "\n",
        "  #plt.title('COVID outcome over user selected range')\n",
        "  #\n",
        "  #\n",
        "  #plt.show()\n",
        "  \n",
        "\n",
        "\n",
        "  #takes values from set_range() and plots them visually using desired format (histogram, pie chart, etc)"
      ],
      "execution_count": null,
      "outputs": []
    },
    {
      "cell_type": "code",
      "metadata": {
        "id": "mtdvK8QD_cqg",
        "colab": {
          "base_uri": "https://localhost:8080/",
          "height": 749
        },
        "outputId": "72f51b78-d753-4632-b179-d7d00a1ddc6b"
      },
      "source": [
        "selection = input(\"Please select a function: Maryland State Data, Maryland County Data (state, county): \")\n",
        "selection = selection.lower()\n",
        "if 'state' in selection:\n",
        "  state(state_data)\n",
        "elif 'county' in selection:\n",
        "  county(county_data)\n",
        "else:\n",
        "  print(\"Invalid Selection\")"
      ],
      "execution_count": null,
      "outputs": [
        {
          "output_type": "stream",
          "text": [
            "Please select a function: Maryland State Data, Maryland County Data (state, county): state\n",
            "Cases or Deaths?: cases\n",
            "Do you want a defined ranged or do you just want the full data? (type full for full data, anything else for defined range): full\n",
            "Choose the corresponding number for how you want the data to be displayed:\n",
            "1 - Line graph\n",
            "2 - Bar graph\n",
            "3 - Scatterplot (not recommended for more than a month of data)\n",
            "1\n"
          ],
          "name": "stdout"
        },
        {
          "output_type": "display_data",
          "data": {
            "image/png": "[encoded data removed]",
            "text/plain": [
              "<Figure size 432x288 with 1 Axes>"
            ]
          },
          "metadata": {
            "tags": [],
            "needs_background": "light"
          }
        },
        {
          "output_type": "stream",
          "text": [
            "test\n",
            "Would you like to view deaths as well? (yes/no): yes\n"
          ],
          "name": "stdout"
        },
        {
          "output_type": "display_data",
          "data": {
            "image/png": "[encoded data removed]",
            "text/plain": [
              "<Figure size 432x288 with 1 Axes>"
            ]
          },
          "metadata": {
            "tags": [],
            "needs_background": "light"
          }
        }
      ]
    },
    {
      "cell_type": "code",
      "metadata": {
        "id": "VPx5QWSAE1DR"
      },
      "source": [
        ""
      ],
      "execution_count": null,
      "outputs": []
    },
    {
      "cell_type": "code",
      "metadata": {
        "id": "3YFVcjUDE1HV"
      },
      "source": [
        ""
      ],
      "execution_count": null,
      "outputs": []
    },
    {
      "cell_type": "code",
      "metadata": {
        "id": "7Ev-L4W9E1T6"
      },
      "source": [
        ""
      ],
      "execution_count": null,
      "outputs": []
    },
    {
      "cell_type": "code",
      "metadata": {
        "id": "x9FuuQXmE1Wy"
      },
      "source": [
        ""
      ],
      "execution_count": null,
      "outputs": []
    }
  ]
}