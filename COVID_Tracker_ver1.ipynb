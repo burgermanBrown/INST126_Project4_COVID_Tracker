{
  "nbformat": 4,
  "nbformat_minor": 0,
  "metadata": {
    "language_info": {
      "codemirror_mode": {
        "name": "ipython",
        "version": 3
      },
      "file_extension": ".py",
      "mimetype": "text/x-python",
      "name": "python",
      "nbconvert_exporter": "python",
      "pygments_lexer": "ipython3",
      "version": "3.8.5-final"
    },
    "orig_nbformat": 2,
    "kernelspec": {
      "name": "python3",
      "display_name": "Python 3"
    },
    "colab": {
      "name": "COVID_Tracker_ver1.ipynb",
      "provenance": [],
      "collapsed_sections": []
    }
  },
  "cells": [
    {
      "cell_type": "code",
      "metadata": {
        "id": "sfm-V3adAJP9"
      },
      "source": [
        "#from google.colab import drive\n",
        "#drive.mount('/content/drive')"
      ],
      "execution_count": null,
      "outputs": []
    },
    {
      "cell_type": "code",
      "metadata": {
        "id": "_tpE2x3W_cqf"
      },
      "source": [
        "import pandas as pd\n",
        "import matplotlib.pyplot as plt"
      ],
      "execution_count": null,
      "outputs": []
    },
    {
      "cell_type": "code",
      "metadata": {
        "id": "IXO84Ufl_cqg",
        "colab": {
          "base_uri": "https://localhost:8080/",
          "height": 391
        },
        "outputId": "48d7aa2a-691a-4798-ff50-9dc06e19b320"
      },
      "source": [
        "county_data = pd.read_csv(\"us-counties.csv\")\n",
        "state_data = pd.read_csv(\"us-states.csv\")"
      ],
      "execution_count": null,
      "outputs": []
    },
    {
      "cell_type": "code",
      "metadata": {
        "id": "dbtghmNbCvDN"
      },
      "source": [
        "#covid_deaths, cases use the same functions (sort, range, display) but will pass different arguments\n",
        "def covid_deaths():\n",
        "  print(\"hello0\")\n",
        "  #displays data on covid deaths by state or county\n",
        "def covid_cases():\n",
        "  print(\"hello1\")\n",
        "  #displays data on covid deaths by state or county\n",
        "def set_range():\n",
        "  print(\"hello2\")\n",
        "  #set the range for matplot graphs via user input\n",
        "def display(df):\n",
        "  print(\"hello3\")\n",
        "  #takes values from set_range() and plots them visually using desired format (histogram, pie chart, etc)"
      ],
      "execution_count": null,
      "outputs": []
    },
    {
      "cell_type": "code",
      "metadata": {
        "id": "mtdvK8QD_cqg",
        "colab": {
          "base_uri": "https://localhost:8080/"
        },
        "outputId": "bb9e44cd-bc46-4960-9723-6ba534d52b75"
      },
      "source": [
        "selection = input(\"Please enter a function: Covid Deaths, Covid Cases\")\n",
        "selection = selection.lower()\n",
        "if selection == 'deaths':\n",
        "  covid_deaths()\n",
        "elif selection == 'cases':\n",
        "  covid_cases()\n",
        "else:\n",
        "  print(\"Invalid Selection\")"
      ],
      "execution_count": null,
      "outputs": []
    },
    {
      "cell_type": "code",
      "metadata": {
        "id": "ew6-WVt9E0_g"
      },
      "source": [
        ""
      ],
      "execution_count": null,
      "outputs": []
    },
    {
      "cell_type": "code",
      "metadata": {
        "id": "VPx5QWSAE1DR"
      },
      "source": [
        ""
      ],
      "execution_count": null,
      "outputs": []
    },
    {
      "cell_type": "code",
      "metadata": {
        "id": "3YFVcjUDE1HV"
      },
      "source": [
        ""
      ],
      "execution_count": null,
      "outputs": []
    },
    {
      "cell_type": "code",
      "metadata": {
        "id": "7Ev-L4W9E1T6"
      },
      "source": [
        ""
      ],
      "execution_count": null,
      "outputs": []
    },
    {
      "cell_type": "code",
      "metadata": {
        "id": "x9FuuQXmE1Wy"
      },
      "source": [
        ""
      ],
      "execution_count": null,
      "outputs": []
    }
  ]
}